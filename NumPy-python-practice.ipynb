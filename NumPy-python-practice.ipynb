{
 "cells": [
  {
   "cell_type": "code",
   "execution_count": 1,
   "id": "27c704f9",
   "metadata": {},
   "outputs": [
    {
     "name": "stdout",
     "output_type": "stream",
     "text": [
      "[1 2 3 4]\n"
     ]
    }
   ],
   "source": [
    "# NumPy->\"Numerical Python\"....Py lib...used for working with arrays.\n",
    "# It also has functions for working in domain of linear algebra, fourier transform, and matrices.\n",
    "\n",
    "# alias: In Python alias are an alternate name for referring to the same thing.\n",
    "# Create an alias with the \"as\" keyword while importing....numpy alias is..np\n",
    "\n",
    "import numpy as np\n",
    "arr=np.array([1,2,3,4])\n",
    "print(arr)"
   ]
  },
  {
   "cell_type": "code",
   "execution_count": 2,
   "id": "a8f4f1a5",
   "metadata": {},
   "outputs": [
    {
     "name": "stdout",
     "output_type": "stream",
     "text": [
      "['waj' 'eeha' 'eiman']\n"
     ]
    }
   ],
   "source": [
    "# Why Use NumPy?\n",
    "# NumPy aims to provide an array object that is up to 50x faster than traditional Python lists.\n",
    "#       NumPy arrays are stored at one continuous place in memory unlike lists, \n",
    "#       so processes can access and manipulate them very efficiently.\n",
    "# array object in NumPy is called ndarray\n",
    "# used -> data science, where speed and resources are very important.\n",
    "\n",
    "# Which Language is NumPy written in?\n",
    "# NumPy is a Python library and is written partially in Python,\n",
    "# but most of the parts that require fast computation are written in C or C++.\n",
    "\n",
    "import numpy\n",
    "arr=numpy.array([\"waj\",\"eeha\",\"eiman\"])\n",
    "print(arr)"
   ]
  },
  {
   "cell_type": "code",
   "execution_count": 3,
   "id": "b3e8a669",
   "metadata": {},
   "outputs": [
    {
     "name": "stdout",
     "output_type": "stream",
     "text": [
      "1.24.3\n"
     ]
    }
   ],
   "source": [
    "# Checking NumPy Version\n",
    "import numpy as np\n",
    "print(np.__version__)"
   ]
  },
  {
   "cell_type": "code",
   "execution_count": 4,
   "id": "ed01726a",
   "metadata": {},
   "outputs": [
    {
     "name": "stdout",
     "output_type": "stream",
     "text": [
      "[1 2 3 4 5]\n",
      "<class 'numpy.ndarray'>\n"
     ]
    }
   ],
   "source": [
    "# Create a NumPy ndarray Object.. create a NumPy ndarray object by using the array() function.\n",
    "arr=np.array([1,2,3,4,5])\n",
    "print(arr)\n",
    "# type() ->built-in Python function tells us the type of the object passed to it.\n",
    "# yahan ...arr is numpy.ndarray type.\n",
    "print(type(arr))"
   ]
  },
  {
   "cell_type": "code",
   "execution_count": 5,
   "id": "df5e8c73",
   "metadata": {},
   "outputs": [
    {
     "name": "stdout",
     "output_type": "stream",
     "text": [
      "[1 2 3 4 5]\n"
     ]
    }
   ],
   "source": [
    "# To create an ndarray..can pass a list, tuple or any array-like object into the array() method\n",
    "#  and it will be converted into an ndarray\n",
    "\n",
    "# Use a tuple to create a NumPy array\n",
    "arr=np.array((1,2,3,4,5))\n",
    "print(arr)"
   ]
  },
  {
   "cell_type": "code",
   "execution_count": 6,
   "id": "5af91938",
   "metadata": {},
   "outputs": [
    {
     "name": "stdout",
     "output_type": "stream",
     "text": [
      "42\n"
     ]
    }
   ],
   "source": [
    "# dimension in arrays....one level of array depth (nested arrays).\n",
    "# nested array: are arrays that have arrays as their elements\n",
    "\n",
    "# 0-D arrays, or Scalars....are the elements in an array. Each value in an array is a 0-D array.\n",
    "# Create a 0-D array with value 42\n",
    "arr=np.array(42)\n",
    "print(arr)"
   ]
  },
  {
   "cell_type": "code",
   "execution_count": 7,
   "id": "22e21d8c",
   "metadata": {},
   "outputs": [
    {
     "name": "stdout",
     "output_type": "stream",
     "text": [
      "[1 2 3 4 5]\n"
     ]
    }
   ],
   "source": [
    "#array that has 0-D arrays as its elements is called uni-dimensional or 1-D array.... most comman typr of array\n",
    "# Create a 1-D array containing the values 1,2,3,4,5:\n",
    "arr=np.array([1,2,3,4,5])\n",
    "print(arr)"
   ]
  },
  {
   "cell_type": "code",
   "execution_count": 8,
   "id": "07985301",
   "metadata": {},
   "outputs": [
    {
     "name": "stdout",
     "output_type": "stream",
     "text": [
      "[[1 2 3]\n",
      " [4 5 6]]\n"
     ]
    }
   ],
   "source": [
    "# NumPy has a whole sub module dedicated towards matrix operations called numpy.mat\n",
    "\n",
    "# An array that has 1-D arrays as its elements is called a 2-D array.\n",
    "# Create a 2-D array containing two arrays with the values 1,2,3 and 4,5,6\n",
    "arr=np.array([[1,2,3],[4,5,6]])\n",
    "print(arr)"
   ]
  },
  {
   "cell_type": "code",
   "execution_count": 9,
   "id": "48ca5a41",
   "metadata": {},
   "outputs": [
    {
     "name": "stdout",
     "output_type": "stream",
     "text": [
      "[[[1 2 3]\n",
      "  [4 5 6]]\n",
      "\n",
      " [[1 2 3]\n",
      "  [4 5 6]]]\n"
     ]
    }
   ],
   "source": [
    "# An array that has 2-D arrays (matrices) as its elements is called 3-D array\n",
    "# Create a 3-D array with two 2-D arrays, both containing two arrays with the values 1,2,3 and 4,5,6\n",
    "arr=np.array([[[1,2,3],[4,5,6]],[[1,2,3],[4,5,6]]])\n",
    "print(arr)"
   ]
  },
  {
   "cell_type": "code",
   "execution_count": 10,
   "id": "25982975",
   "metadata": {},
   "outputs": [
    {
     "name": "stdout",
     "output_type": "stream",
     "text": [
      "0\n",
      "1\n",
      "2\n",
      "3\n"
     ]
    }
   ],
   "source": [
    "# Check Number of Dimensions\n",
    "# ndim attribute....returns an integer ....how many dimensions the array have\n",
    "\n",
    "a = np.array(42)\n",
    "b = np.array([1, 2, 3, 4, 5])\n",
    "c = np.array([[1, 2, 3], [4, 5, 6]])\n",
    "d = np.array([[[1, 2, 3], [4, 5, 6]], [[1, 2, 3], [4, 5, 6]]])\n",
    "print(a.ndim)\n",
    "print(b.ndim)\n",
    "print(c.ndim)\n",
    "print(d.ndim)"
   ]
  },
  {
   "cell_type": "code",
   "execution_count": 11,
   "id": "ccb8c529",
   "metadata": {},
   "outputs": [
    {
     "name": "stdout",
     "output_type": "stream",
     "text": [
      "5\n"
     ]
    }
   ],
   "source": [
    "# Higher Dimensional Arrays....can have any number of dimensions\n",
    "# Create an array with 5 dimensions\n",
    "# using the ndmin argument....define the number of dimensions\n",
    "arr=np.array([1,2,3],ndmin=5)\n",
    "print(arr.ndim)"
   ]
  },
  {
   "cell_type": "code",
   "execution_count": 12,
   "id": "c322c9d5",
   "metadata": {},
   "outputs": [],
   "source": [
    "# In this array the innermost dimension (5th dim) has 4 elements, \n",
    "# the 4th dim has 1 element that is the vector, \n",
    "# the 3rd dim has 1 element that is the matrix with the vector,\n",
    "# the 2nd dim has 1 element that is 3D array and 1st dim has 1 element that is a 4D array."
   ]
  },
  {
   "cell_type": "code",
   "execution_count": 13,
   "id": "bb29abfd",
   "metadata": {},
   "outputs": [
    {
     "name": "stdout",
     "output_type": "stream",
     "text": [
      "1\n",
      "4 5\n"
     ]
    }
   ],
   "source": [
    "# Array indexing....accessing an array element....by referring to its index number.... index starting with 0 and so on...\n",
    "arr=np.array((1,2,3,4,5,6))#tuple\n",
    "print(arr[0])#first element\n",
    "print(arr[3],arr[4])#3rd and 4th element"
   ]
  },
  {
   "cell_type": "code",
   "execution_count": 14,
   "id": "c4ffa04b",
   "metadata": {},
   "outputs": [
    {
     "name": "stdout",
     "output_type": "stream",
     "text": [
      "4\n",
      "6\n"
     ]
    }
   ],
   "source": [
    "# 2-D arrays.... like a table with rows and columns, where the dimension represents the row and the index represents the column.\n",
    "arr=np.array([[1,2,3],\n",
    "              [4,5,6]])\n",
    "print(arr[1][0])# Access the element on the first row, second column\n",
    "# or\n",
    "print(arr[1,2])# Access the element on the first row, 3rd column"
   ]
  },
  {
   "cell_type": "code",
   "execution_count": 15,
   "id": "7960692c",
   "metadata": {},
   "outputs": [
    {
     "name": "stdout",
     "output_type": "stream",
     "text": [
      "[[[1 2 3 4]\n",
      "  [5 6 7 8]]\n",
      "\n",
      " [[1 2 3 4]\n",
      "  [5 6 7 8]]]\n",
      "7\n"
     ]
    }
   ],
   "source": [
    "# 3-D arrays\n",
    "\n",
    "# Access the third element of the second array of the first array\n",
    "arr=np.array([[[1,2,3,4],\n",
    "               [5,6,7,8]],\n",
    "              \n",
    "            [[1,2,3,4],\n",
    "             [5,6,7,8]]])\n",
    "print(arr)\n",
    "print(arr[0][1][2])"
   ]
  },
  {
   "cell_type": "code",
   "execution_count": 16,
   "id": "872de59c",
   "metadata": {},
   "outputs": [
    {
     "name": "stdout",
     "output_type": "stream",
     "text": [
      "8\n"
     ]
    }
   ],
   "source": [
    "# Use negative indexing.... to access an array from the end.\n",
    "# Print the last element from the 2nd dim\n",
    "arr=np.array([[1,2,3,4,],[5,6,7,8]])\n",
    "print(arr[1][-1] )\n",
    "\n",
    "# arr = np.array([[1,2,3,4,5], [6,7,8,9,10]])\n",
    "# print('Last element from 2nd dim: ', arr[1, -1])\n"
   ]
  },
  {
   "cell_type": "code",
   "execution_count": 17,
   "id": "fd3e697e",
   "metadata": {},
   "outputs": [
    {
     "name": "stdout",
     "output_type": "stream",
     "text": [
      "a . [3 4 5]\n",
      "b . [5 6 7 8]\n",
      "c . [1 2 3 4]\n",
      "d . [6 7]\n",
      "e . [2 4]\n",
      "f . [1 3 5 7]\n"
     ]
    }
   ],
   "source": [
    "# Slicing arrays....taking elements from one given index to another given index.\n",
    "# [start:end]. or  [start:end:step]\n",
    "\n",
    "# Slice elements from index 1 to index 5\n",
    "arr=np.array([1,2,3,4,5,6,7,8])\n",
    "print(\"a .\",arr[2:5])\n",
    "print(\"b .\",arr[4:])#from index 4 to the end of the array\n",
    "print(\"c .\",arr[:4])# from the beginning to index 4 \n",
    "\n",
    "# Negative Slicing\n",
    "print(\"d .\",arr[-3:-1])#from the index 3 from the end to index 1 from the end\n",
    "\n",
    "#STEP\n",
    "print(\"e .\",arr[1:5:2]) #Return every other element from index 1 to index 5\n",
    "print(\"f .\",arr[::2])#Return every other element from the entire array"
   ]
  },
  {
   "cell_type": "code",
   "execution_count": 18,
   "id": "49700ed9",
   "metadata": {},
   "outputs": [
    {
     "name": "stdout",
     "output_type": "stream",
     "text": [
      "[[ 1  2  3  4  5  6  7  8]\n",
      " [ 9 10 11 12 13 14 15 16]] \n",
      "\n",
      "a . [10 11 12]\n",
      "b . [ 3 11]\n",
      "c . [[ 2  3  4]\n",
      " [10 11 12]]\n"
     ]
    }
   ],
   "source": [
    "#Slicing 2-D Arrays\n",
    "arr=np.array([[1,2,3,4,5,6,7,8],[9,10,11,12,13,14,15,16]])\n",
    "print(arr,\"\\n\")\n",
    "# From the second element, slice elements from index 1 to index 4 \n",
    "print(\"a .\",arr[1,1:4])\n",
    "# Note: Remember that second element has index 1.\n",
    "\n",
    "# From both elements, return index 2:\n",
    "print(\"b .\",arr[0:2,2])\n",
    "\n",
    "# From both elements, slice index 1 to index 4 \n",
    "print(\"c .\",arr[0:2,1:4])"
   ]
  },
  {
   "cell_type": "code",
   "execution_count": 19,
   "id": "4c45076d",
   "metadata": {},
   "outputs": [
    {
     "name": "stdout",
     "output_type": "stream",
     "text": [
      "int32\n",
      "complex128\n",
      "[b'1' b'2' b'3' b'4']\n",
      "|S1\n",
      "[1 2 3 4]\n",
      "int32\n"
     ]
    }
   ],
   "source": [
    "# # NumPy Data Types\n",
    "# strings - used to represent text data, the text is given under quote marks. e.g. \"ABCD\"\n",
    "# integer - used to represent integer numbers. e.g. -1, -2, -3\n",
    "# float - used to represent real numbers. e.g. 1.2, 42.42\n",
    "# boolean - used to represent True or False.\n",
    "# complex - used to represent complex numbers. e.g. 1.0 + 2.0j, 1.5 + 2.5j\n",
    "\n",
    "# check data type \n",
    "arr=np.array([1,5])\n",
    "print(arr.dtype)\n",
    "arr1=np.array([1j,5j])\n",
    "print(arr1.dtype)\n",
    "\n",
    "\n",
    "# Creating Arrays With a Defined Data Type\n",
    "# Create an array with data type string\n",
    "arr2 = np.array([1, 2, 3, 4], dtype='S')\n",
    "print(arr2)\n",
    "print(arr2.dtype)\n",
    "\n",
    "# Create an array with data type 4 bytes integer\n",
    "arr3=np.array([1,2,3,4],dtype=\"i4\")\n",
    "print(arr3)\n",
    "print(arr3.dtype)\n",
    "\n",
    "\n",
    "# A non integer string like 'a' can not be converted to integer \n",
    "# arr4=np.array(['a','4','3'],dtype=\"i\")# it create error"
   ]
  },
  {
   "cell_type": "code",
   "execution_count": 28,
   "id": "57901b92",
   "metadata": {},
   "outputs": [
    {
     "name": "stdout",
     "output_type": "stream",
     "text": [
      "[2 4 3]\n",
      "[ True  True  True]\n",
      "bool\n"
     ]
    }
   ],
   "source": [
    "# astype() method....function creates a copy of the array, and allows you to specify the data type as a parameter.\n",
    "\n",
    "# Change data type from float to integer by using 'i' as parameter value\n",
    "arr=np.array([2.3,4.6,3.2])\n",
    "narr=arr.astype('i')#or narr=arr.astpye(int) \n",
    "print(narr)\n",
    "narr2=arr.astype(bool)#data type from integer to boolean\n",
    "print(narr2)\n",
    "print(narr2.dtype)"
   ]
  },
  {
   "cell_type": "code",
   "execution_count": 34,
   "id": "544fc422",
   "metadata": {},
   "outputs": [
    {
     "name": "stdout",
     "output_type": "stream",
     "text": [
      "[42  2  3  4  5]\n",
      "[1 2 3 4 5] \n",
      "\n",
      "[ 42 456   3   4   5]\n",
      "[ 42 456   3   4   5]\n",
      "None\n",
      "[ 42 456   3   4   5]\n"
     ]
    }
   ],
   "source": [
    "# Difference Between Copy and View\n",
    "# copy :\n",
    "# is a new array\n",
    "# owns the data and\n",
    "# any changes made to the copy will not affect original array and\n",
    "# any changes made to the original array will not affect the copy\n",
    "# view :\n",
    "# is just a view of the original array.\n",
    "# does not own the data and \n",
    "# any changes made to the view will affect the original array, and \n",
    "# any changes made to the original array will affect the view\n",
    "\n",
    "arr=np.array([1,2,3,4,5])\n",
    "x=arr.copy()\n",
    "arr[0]=42\n",
    "print(arr)\n",
    "print(x,\"\\n\")#no chnages made when there is change in original array\n",
    "\n",
    "y=arr.view()\n",
    "arr[1]=456\n",
    "print(arr)\n",
    "print(y)#chnage is made when there is change in original array\n",
    "\n",
    "\n",
    "# Check if Array Owns its Data\n",
    "# base  attribute refers to the original object.....returns None if the array owns the data\n",
    "print(x.base)#returned none\n",
    "print(y.base)#returned original array"
   ]
  },
  {
   "cell_type": "code",
   "execution_count": 50,
   "id": "be40891c",
   "metadata": {},
   "outputs": [
    {
     "name": "stdout",
     "output_type": "stream",
     "text": [
      "(2, 3)\n",
      "(3,)\n",
      "[[[1 2 3]\n",
      "  [1 2 3]]\n",
      "\n",
      " [[2 4 6]\n",
      "  [1 2 3]]]\n",
      "(2, 2, 3)\n"
     ]
    }
   ],
   "source": [
    "# array shape=number of elements in each dimension.\n",
    "# attribute shape .....returns a tuple with each index having the number of corresponding elements.\n",
    "arr=np.array([[1,2,3],[2,4,6]])\n",
    "print(arr.shape)#array has 2 dimensions, where the first dimension has 2 elements and the second has 4.\n",
    "arr=np.array([1,2,3])\n",
    "print(arr.shape)#1 dim , and have 3 elements\n",
    "\n",
    "arr=np.array([[[1,2,3],[1,2,3]],\n",
    "             [[2,4,6],[1,2,3]]])\n",
    "print(arr)\n",
    "print(arr.shape)"
   ]
  },
  {
   "cell_type": "code",
   "execution_count": 48,
   "id": "a7be11b7",
   "metadata": {},
   "outputs": [
    {
     "name": "stdout",
     "output_type": "stream",
     "text": [
      "[[[[[1 2 3 4]]]]]\n",
      "(1, 1, 1, 1, 4)\n"
     ]
    },
    {
     "data": {
      "text/plain": [
       "5"
      ]
     },
     "execution_count": 48,
     "metadata": {},
     "output_type": "execute_result"
    }
   ],
   "source": [
    "#Create an array with 5 dimensions using ndmin using a vector with values 1,2,3,4 and verify that last dimension has value 4\n",
    "arr=np.array([1,2,3,4], ndmin=5)\n",
    "print(arr)\n",
    "print(arr.shape)\n",
    "arr.ndim"
   ]
  },
  {
   "cell_type": "code",
   "execution_count": 59,
   "id": "a6f3c401",
   "metadata": {},
   "outputs": [
    {
     "name": "stdout",
     "output_type": "stream",
     "text": [
      "[ 1  2  3  4  5  6  7  8  9 10 11 12]\n",
      "[[ 1  2  3  4]\n",
      " [ 5  6  7  8]\n",
      " [ 9 10 11 12]]\n",
      "(12,)\n",
      "(3, 4)\n",
      "[[1 2 3 4]\n",
      " [5 6 7 8]]\n",
      "[1 2 3 4 5 6 7 8]\n"
     ]
    }
   ],
   "source": [
    "# Reshaping arrays....changing the shape of an array.\n",
    "# we can add or remove dimensions or change number of elements in each dimension.\n",
    "#1-D TO 3-D\n",
    "arr=np.array([1,2,3,4,5,6,7,8,9,10,11,12])\n",
    "narr=arr.reshape(3,4)\n",
    "print(arr)\n",
    "print(narr)\n",
    "print(arr.shape)\n",
    "print(narr.shape)\n",
    "\n",
    "#can not reshape any number of elemet into tha shape..array of 8 elment can be change to (2,4)or(4,2)..but not to (3,3)...3*3=9\n",
    "arr = np.array([1, 2, 3, 4, 5, 6, 7, 8])\n",
    "# newarr = arr.reshape(3, 3)#error\n",
    "newarr=arr.reshape(2,4)\n",
    "print(newarr)\n",
    "print(newarr.base)#it is a view not a copy,returns original array"
   ]
  },
  {
   "cell_type": "code",
   "execution_count": 61,
   "id": "4308e36a",
   "metadata": {},
   "outputs": [
    {
     "name": "stdout",
     "output_type": "stream",
     "text": [
      "[[[1 2]\n",
      "  [3 4]]\n",
      "\n",
      " [[5 6]\n",
      "  [7 8]]]\n"
     ]
    }
   ],
   "source": [
    "# allowed to have one \"unknown\" dimension...you do not have to specify an exact number for one of the dimensions in the reshape method.\n",
    "arr=np.array([1,2,3,4,5,6,7,8])\n",
    "newarr=arr.reshape(2,2,-1)\n",
    "print(newarr)\n",
    "#  We can not pass -1 to more than one dimension."
   ]
  },
  {
   "cell_type": "code",
   "execution_count": 64,
   "id": "732eed4f",
   "metadata": {},
   "outputs": [
    {
     "name": "stdout",
     "output_type": "stream",
     "text": [
      "[[1 2 3]\n",
      " [4 5 6]]\n",
      "[1 2 3 4 5 6]\n"
     ]
    }
   ],
   "source": [
    "# Flattening array...converting a multidimensional array into a 1D array.\n",
    "# use reshape(-1) to do this.\n",
    "arr=np.array([[1, 2, 3],\n",
    "              [4, 5, 6]])\n",
    "print(arr)\n",
    "new=arr.reshape(-1)\n",
    "print(new)"
   ]
  },
  {
   "cell_type": "code",
   "execution_count": 80,
   "id": "30ffae52",
   "metadata": {},
   "outputs": [
    {
     "name": "stdout",
     "output_type": "stream",
     "text": [
      "1\n",
      "2\n",
      "3\n",
      "4\n",
      "5\n",
      "6\n",
      "[1 2 3]\n",
      "[4 5 6]\n",
      "1\n",
      "2\n",
      "3\n",
      "4\n",
      "5\n",
      "6\n",
      "\n",
      "\n",
      "\n",
      "rows\n",
      "[[1 2 3]\n",
      " [1 2 3]]\n",
      "rows\n",
      "[[2 4 6]\n",
      " [1 2 3]]\n",
      "w\n",
      "1\n",
      "2\n",
      "3\n",
      "1\n",
      "2\n",
      "3\n",
      "w\n",
      "2\n",
      "4\n",
      "6\n",
      "1\n",
      "2\n",
      "3\n"
     ]
    }
   ],
   "source": [
    "# Iterating Arrays... going through elements one by one....do this using basic for loop\n",
    "arr=np.array([1,2,3,4,5,6])\n",
    "for x in arr:\n",
    "    print(x)\n",
    "    \n",
    "    \n",
    "# 2-D array... go through reading the rows.\n",
    "# n-D array it will go through n-1th dimension one by one\n",
    "arr=np.array([[1,2,3],\n",
    "              [4,5,6]])\n",
    "for x in arr:\n",
    "    print(x)\n",
    "# for iterating each scaler element:\n",
    "for x in arr:\n",
    "    for y in x:\n",
    "        print(y)\n",
    "    \n",
    "print(\"\\n\\n\")    \n",
    "arr=np.array([[[1,2,3],[1,2,3]],\n",
    "             [[2,4,6],[1,2,3]]])# iterate 3-D Arrays\n",
    "for x in arr:\n",
    "    print(\"rows\")\n",
    "    print(x)\n",
    "    \n",
    "# # for iterating each scaler element:\n",
    "for x in arr:\n",
    "#     print(\"w\")\n",
    "    for y in x:\n",
    "#         print(\"w\")\n",
    "        for z in y:\n",
    "#             print(\"r\")\n",
    "            print(z)"
   ]
  },
  {
   "cell_type": "code",
   "execution_count": 81,
   "id": "47fdb492",
   "metadata": {},
   "outputs": [
    {
     "name": "stdout",
     "output_type": "stream",
     "text": [
      "1\n",
      "2\n",
      "3\n",
      "4\n",
      "5\n",
      "6\n",
      "7\n",
      "8\n"
     ]
    }
   ],
   "source": [
    "# Iterating Arrays Using nditer()\n",
    "arr = np.array([[[1, 2], [3, 4]], \n",
    "                [[5, 6], [7, 8]]])\n",
    "for x in np.nditer(arr):\n",
    "  print(x)"
   ]
  },
  {
   "cell_type": "code",
   "execution_count": 89,
   "id": "53a79ed7",
   "metadata": {},
   "outputs": [
    {
     "name": "stdout",
     "output_type": "stream",
     "text": [
      "b'1'\n",
      "b'2'\n",
      "b'3'\n"
     ]
    }
   ],
   "source": [
    "# op_dtypes argument and pass it the expected datatype to change the datatype of elements while iterating.\n",
    "arr = np.array([1, 2, 3])\n",
    "for x in np.nditer(arr, flags=['buffered'], op_dtypes=['S']):\n",
    "  print(x)\n",
    "\n",
    "#  needs some other space to perform this action, that extra space is called buffer"
   ]
  },
  {
   "cell_type": "code",
   "execution_count": 90,
   "id": "7b929711",
   "metadata": {},
   "outputs": [
    {
     "name": "stdout",
     "output_type": "stream",
     "text": [
      "1\n",
      "3\n",
      "5\n",
      "7\n"
     ]
    }
   ],
   "source": [
    "# Iterating With Different Step Size\n",
    "# Iterate through every scalar element of the 2D array skipping 1 element\n",
    "arr = np.array([[1, 2, 3, 4], [5, 6, 7, 8]])\n",
    "for x in np.nditer(arr[:, ::2]):\n",
    "  print(x)"
   ]
  },
  {
   "cell_type": "code",
   "execution_count": null,
   "id": "a9a5de73",
   "metadata": {},
   "outputs": [],
   "source": [
    "# Enumerated Iteration Using ndenumerate()\n",
    "# Enumeration .... mentioning sequence number of somethings one by one."
   ]
  },
  {
   "cell_type": "code",
   "execution_count": null,
   "id": "524c7dca",
   "metadata": {},
   "outputs": [],
   "source": []
  },
  {
   "cell_type": "code",
   "execution_count": null,
   "id": "a9dc41c4",
   "metadata": {},
   "outputs": [],
   "source": []
  },
  {
   "cell_type": "code",
   "execution_count": null,
   "id": "6e8cac40",
   "metadata": {},
   "outputs": [],
   "source": []
  },
  {
   "cell_type": "code",
   "execution_count": null,
   "id": "c878924c",
   "metadata": {},
   "outputs": [],
   "source": []
  },
  {
   "cell_type": "code",
   "execution_count": null,
   "id": "f8711eb5",
   "metadata": {},
   "outputs": [],
   "source": []
  },
  {
   "cell_type": "code",
   "execution_count": null,
   "id": "cde0412b",
   "metadata": {},
   "outputs": [],
   "source": []
  }
 ],
 "metadata": {
  "kernelspec": {
   "display_name": "Python 3 (ipykernel)",
   "language": "python",
   "name": "python3"
  },
  "language_info": {
   "codemirror_mode": {
    "name": "ipython",
    "version": 3
   },
   "file_extension": ".py",
   "mimetype": "text/x-python",
   "name": "python",
   "nbconvert_exporter": "python",
   "pygments_lexer": "ipython3",
   "version": "3.11.3"
  }
 },
 "nbformat": 4,
 "nbformat_minor": 5
}
